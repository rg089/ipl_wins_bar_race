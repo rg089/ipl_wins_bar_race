{
 "cells": [
  {
   "cell_type": "markdown",
   "metadata": {},
   "source": [
    "# Importing the modules"
   ]
  },
  {
   "cell_type": "code",
   "execution_count": null,
   "metadata": {},
   "outputs": [],
   "source": [
    "import pandas as pd\n",
    "import numpy as np\n",
    "import matplotlib.pyplot as plt\n",
    "import seaborn as sns\n",
    "import datetime\n",
    "import matplotlib.animation as animation\n",
    "from IPython.display import HTML"
   ]
  },
  {
   "cell_type": "markdown",
   "metadata": {},
   "source": [
    "# Getting and Cleaning the Data"
   ]
  },
  {
   "cell_type": "markdown",
   "metadata": {},
   "source": [
    "## Importing the data"
   ]
  },
  {
   "cell_type": "code",
   "execution_count": null,
   "metadata": {},
   "outputs": [],
   "source": [
    "df=pd.read_csv(\"ipl_matches.csv\", usecols=[1,3,10])\n",
    "df.dropna(inplace=True)"
   ]
  },
  {
   "cell_type": "markdown",
   "metadata": {},
   "source": [
    "## Renaming and getting the abbreviations"
   ]
  },
  {
   "cell_type": "code",
   "execution_count": null,
   "metadata": {},
   "outputs": [],
   "source": [
    "df.replace({\"Delhi Daredevils\":\"Delhi Capitals\",\"Rising Pune Supergiant\":\"Rising Pune Supergiants\"}, inplace=True)\n",
    "d={}; di={}\n",
    "for s in df[\"winner\"].unique():\n",
    "    d[s]=\"\".join([i[0] for i in s.split()])\n",
    "d[\"Sunrisers Hyderabad\"]=\"SRH\"; d[\"Kings XI Punjab\"]=\"KXIP\"; d[\"Deccan Chargers\"]=\"DCH\" #Changing the exceptions\n",
    "for i in d:\n",
    "    di[d[i]]=i\n",
    "df[\"winner\"]=df[\"winner\"].apply(lambda x: d[x])"
   ]
  },
  {
   "cell_type": "markdown",
   "metadata": {},
   "source": [
    "## Colors"
   ]
  },
  {
   "cell_type": "code",
   "execution_count": null,
   "metadata": {},
   "outputs": [],
   "source": [
    "colors=dict(zip(d.values(), [\"orangered\", \"#d11d9b\", \"#2e0854\", \"darkgrey\", \"#ec1c24\", \"#0e74e8\", \"deeppink\", \"#e04f16\", \"#e3c612\", \"#004ba0\", \"#d9e3ef\", \"#c0d6eb\", \"#ec1c24\",\"#632b72\"]))"
   ]
  },
  {
   "cell_type": "markdown",
   "metadata": {},
   "source": [
    "## Converting to DateTime"
   ]
  },
  {
   "cell_type": "markdown",
   "metadata": {},
   "source": [
    "#### Pandas to Datetime is not useful as the dates are in different formats which getsrecognized incorrectly."
   ]
  },
  {
   "cell_type": "code",
   "execution_count": null,
   "metadata": {},
   "outputs": [],
   "source": [
    "def datetimeconverter(s):\n",
    "    if \"-\" in s:\n",
    "        return datetime.datetime.strptime(s,\"%Y-%m-%d\")\n",
    "    return datetime.datetime.strptime(s, \"%d/%m/%y\")\n",
    "\n",
    "df[\"date\"]=df[\"date\"].apply(datetimeconverter)\n",
    "df.sort_values(\"date\", inplace = True)"
   ]
  },
  {
   "cell_type": "markdown",
   "metadata": {},
   "source": [
    "## Creating Data for Each Season"
   ]
  },
  {
   "cell_type": "code",
   "execution_count": null,
   "metadata": {},
   "outputs": [],
   "source": [
    "df_season=df.set_index(\"season\")"
   ]
  },
  {
   "cell_type": "code",
   "execution_count": null,
   "metadata": {},
   "outputs": [],
   "source": [
    "def get_df_for_season(year):\n",
    "    s=df_season.loc[str(year)][\"winner\"].value_counts(); dic={}\n",
    "    return s[::-1]\n",
    "    for i in d.values():  #Set the values of teams not present as 0\n",
    "        if i not in s.index:\n",
    "            dic[i]=0\n",
    "    return s.append(pd.Series(dic))[::-1]       "
   ]
  },
  {
   "cell_type": "markdown",
   "metadata": {},
   "source": [
    "## Plotting this Data"
   ]
  },
  {
   "cell_type": "code",
   "execution_count": null,
   "metadata": {},
   "outputs": [],
   "source": [
    "def plotting(year):\n",
    "    x=get_df_for_season(year)\n",
    "    plt.cla()\n",
    "    plt.barh(x.index, x.values, color=[colors[i] for i in x.index])\n",
    "    plt.box(False)\n",
    "    plt.xticks([]); plt.yticks([])\n",
    "    for i in range(len(x.index)):\n",
    "        plt.text(x.values[i]-0.2, i, x.index[i], ha=\"right\", size=15, weight=900, va=\"bottom\", color=\"white\")\n",
    "        plt.text(x.values[i]+0.2, i, x.values[i], ha=\"left\", size=14, weight=800, va=\"center\")\n",
    "        plt.text(x.values[i]-0.2, i-0.25, di[x.index[i]], ha=\"right\", size=13, weight=350, va=\"baseline\", color=\"snow\")\n",
    "    plt.title(f\"IPL Wins {year}\", size=27, weight=600);\n",
    "\n",
    "fig=plt.figure(figsize=(9,11))\n",
    "animator = animation.FuncAnimation(fig, plotting, frames=range(2008, 2020), interval=800)\n",
    "HTML(animator.to_jshtml())"
   ]
  }
 ],
 "metadata": {
  "kernelspec": {
   "display_name": "Python 3",
   "language": "python",
   "name": "python3"
  },
  "language_info": {
   "codemirror_mode": {
    "name": "ipython",
    "version": 3
   },
   "file_extension": ".py",
   "mimetype": "text/x-python",
   "name": "python",
   "nbconvert_exporter": "python",
   "pygments_lexer": "ipython3",
   "version": "3.7.4"
  }
 },
 "nbformat": 4,
 "nbformat_minor": 4
}
